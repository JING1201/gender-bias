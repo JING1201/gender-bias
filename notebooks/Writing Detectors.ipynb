{
 "cells": [
  {
   "cell_type": "code",
   "execution_count": 37,
   "metadata": {},
   "outputs": [],
   "source": [
    "# To run this you need to have the 'genderbias' package installed\n",
    "# Since the package is not on PyPI, you will need to run 'pip -e .' from the cloned git repository to do so\n",
    "\n",
    "# Initially just import the Document class to load texts\n",
    "from genderbias import Document"
   ]
  },
  {
   "cell_type": "code",
   "execution_count": 38,
   "metadata": {},
   "outputs": [],
   "source": [
    "# Document can load text inline, as shown here\n",
    "inline_example = Document(\"I thoroughly recommend PERSON due to their extreme effort in this endeavour.\")"
   ]
  },
  {
   "cell_type": "code",
   "execution_count": 40,
   "metadata": {},
   "outputs": [
    {
     "data": {
      "text/plain": [
       "['I',\n",
       " 'thoroughly',\n",
       " 'recommend',\n",
       " 'PERSON',\n",
       " 'due',\n",
       " 'to',\n",
       " 'their',\n",
       " 'extreme',\n",
       " 'effort',\n",
       " 'in',\n",
       " 'this',\n",
       " 'endeavour',\n",
       " '.']"
      ]
     },
     "execution_count": 40,
     "metadata": {},
     "output_type": "execute_result"
    }
   ],
   "source": [
    "# Documents have useful methods, eg. the words:\n",
    "inline_example.words()"
   ]
  },
  {
   "cell_type": "code",
   "execution_count": 42,
   "metadata": {},
   "outputs": [
    {
     "data": {
      "text/plain": [
       "[('I', 0, 1),\n",
       " ('thoroughly', 2, 12),\n",
       " ('recommend', 13, 22),\n",
       " ('PERSON', 23, 29),\n",
       " ('due', 30, 33),\n",
       " ('to', 34, 36),\n",
       " ('their', 37, 42),\n",
       " ('extreme', 43, 50),\n",
       " ('effort', 51, 57),\n",
       " ('in', 58, 60),\n",
       " ('this', 61, 65),\n",
       " ('endeavour', 66, 75),\n",
       " ('.', 75, 76)]"
      ]
     },
     "execution_count": 42,
     "metadata": {},
     "output_type": "execute_result"
    }
   ],
   "source": [
    "# Also useful is words_with_indices, for finding where a word is in a text, eg. to highlight it:\n",
    "inline_example.words_with_indices()"
   ]
  },
  {
   "cell_type": "code",
   "execution_count": 46,
   "metadata": {},
   "outputs": [
    {
     "name": "stdout",
     "output_type": "stream",
     "text": [
      "Word Count\n",
      " SUMMARY: The document has 13 words\n"
     ]
    }
   ],
   "source": [
    "# You can easily write a Detector; this one reports how many words, using the first method above\n",
    "# This requires the Report class, since the WordsDetector generates one\n",
    "from genderbias.detector import Report\n",
    "\n",
    "class WordsDetector:\n",
    "    def get_report(self, document):\n",
    "        report = Report(\"Word Count\")\n",
    "        report.set_summary(\"The document has {} words\".format(len(document.words())))\n",
    "        return report\n",
    "\n",
    "words_report = WordsDetector().get_report(inline_example)\n",
    "print(words_report)"
   ]
  },
  {
   "cell_type": "code",
   "execution_count": 47,
   "metadata": {},
   "outputs": [
    {
     "name": "stdout",
     "output_type": "stream",
     "text": [
      "Word Flagger\n",
      " [13-22]: Word Flagger: Found 'recommend'\n",
      " SUMMARY: [None available]\n"
     ]
    }
   ],
   "source": [
    "# Here's another detector, just looking for one particular word\n",
    "# We need another import here, since WordFlaggingDetector marks words using Flags and Issues\n",
    "from genderbias.detector import Flag, Issue\n",
    "\n",
    "class WordFlaggingDetector:\n",
    "    def get_report(self, document):\n",
    "        report = Report(\"Word Flagger\")\n",
    "        my_word = 'recommend'\n",
    "        if my_word in document.words():\n",
    "            for word, start, stop in document.words_with_indices():\n",
    "                if my_word == word:\n",
    "                    report.add_flag(Flag(start, stop,\n",
    "                                         Issue(\"Word Flagger\", \"Found '{}'\".format(my_word))))\n",
    "        return report\n",
    "    \n",
    "flagging_report = WordFlaggingDetector().get_report(inline_example)\n",
    "print(flagging_report)"
   ]
  },
  {
   "cell_type": "code",
   "execution_count": null,
   "metadata": {},
   "outputs": [],
   "source": []
  }
 ],
 "metadata": {
  "kernelspec": {
   "display_name": "Python 3",
   "language": "python",
   "name": "python3"
  },
  "language_info": {
   "codemirror_mode": {
    "name": "ipython",
    "version": 3
   },
   "file_extension": ".py",
   "mimetype": "text/x-python",
   "name": "python",
   "nbconvert_exporter": "python",
   "pygments_lexer": "ipython3",
   "version": "3.6.5"
  }
 },
 "nbformat": 4,
 "nbformat_minor": 2
}
